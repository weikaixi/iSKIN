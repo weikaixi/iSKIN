{
 "cells": [
  {
   "cell_type": "code",
   "execution_count": 1,
   "id": "f776222f",
   "metadata": {},
   "outputs": [],
   "source": [
    "import pandas as pd\n",
    "from sklearn.ensemble import RandomForestClassifier\n",
    "from sklearn.model_selection import GridSearchCV, cross_val_score, StratifiedKFold\n",
    "from sklearn.metrics import make_scorer, matthews_corrcoef\n",
    "from sklearn.preprocessing import LabelEncoder\n",
    "from scipy import stats\n",
    "import numpy as np\n",
    "import joblib\n",
    "\n",
    "from sklearn.preprocessing import LabelEncoder"
   ]
  },
  {
   "cell_type": "code",
   "execution_count": 2,
   "id": "50764375",
   "metadata": {},
   "outputs": [],
   "source": [
    "# Load the CSV file\n",
    "calibratedata = pd.read_csv('calibrateset_withVAEfeature.csv')\n",
    "# Delete the \"ID\" and \"Standard.SMILES\" columns\n",
    "calibratedata = calibratedata.drop([\"ID\", \"SMILES\"], axis=1)\n",
    "X_calibratedata = calibratedata.drop(\"label\", axis=1)\n",
    "y_calibratedata = calibratedata[\"label\"]\n",
    "# Encode the labels\n",
    "le = LabelEncoder()\n",
    "y_calibratedata = le.fit_transform(y_calibratedata)"
   ]
  },
  {
   "cell_type": "code",
   "execution_count": 4,
   "id": "eeb231d4",
   "metadata": {},
   "outputs": [],
   "source": [
    "X_calib=X_calibratedata\n",
    "y_calib=y_calibratedata\n",
    "\n",
    "# Train a RandomForestClassifier (or any other classifier)\n",
    "clf = joblib.load(\"XGboostbest_model.pkl\")\n",
    "\n",
    "# Apply the classifier to the calibration set and calculate p-values\n",
    "y_pred_proba_calib = clf.predict_proba(X_calib)\n",
    "#y_pred_proba_test = clf.predict_proba(X_test)\n",
    "\n",
    "# Calculate the conformity scores\n",
    "conformity_scores = y_pred_proba_calib[np.arange(len(y_calib)), y_calib]\n",
    "\n"
   ]
  },
  {
   "cell_type": "code",
   "execution_count": 8,
   "id": "50273c42",
   "metadata": {},
   "outputs": [],
   "source": [
    "def get_mcp_vector(confidence_level, testsettable):\n",
    "    y_pred_proba_test = clf.predict_proba(testsettable)\n",
    "    # Calculate the conformity scores\n",
    "    conformity_scores = y_pred_proba_calib[np.arange(len(y_calib)), y_calib]\n",
    "\n",
    "    # Calculate p-values for test set\n",
    "    p_values = []\n",
    "    for probas in y_pred_proba_test:\n",
    "        instance_p_values = [np.mean(proba >= conformity_scores) for proba in probas]\n",
    "        p_values.append(instance_p_values)\n",
    "    p_values = np.array(p_values)\n",
    "    alpha=confidence_level\n",
    "\n",
    "    # Make predictions\n",
    "    predictions = [(p > alpha).nonzero()[0] for p in p_values]\n",
    "    filtered_indices = [i for i, prediction in enumerate(predictions) if len(prediction) == 1]\n",
    "    # Create new vector based on filtered_indices\n",
    "    new_vector = [\"Reliable\" if i in filtered_indices else \"Unreliable\" for i in range(len(y_pred_proba_test))]\n",
    "\n",
    "    print(new_vector)\n"
   ]
  }
 ],
 "metadata": {
  "kernelspec": {
   "display_name": "Python [conda env:py37] *",
   "language": "python",
   "name": "conda-env-py37-py"
  },
  "language_info": {
   "codemirror_mode": {
    "name": "ipython",
    "version": 3
   },
   "file_extension": ".py",
   "mimetype": "text/x-python",
   "name": "python",
   "nbconvert_exporter": "python",
   "pygments_lexer": "ipython3",
   "version": "3.7.15"
  },
  "toc": {
   "base_numbering": 1,
   "nav_menu": {},
   "number_sections": true,
   "sideBar": true,
   "skip_h1_title": false,
   "title_cell": "Table of Contents",
   "title_sidebar": "Contents",
   "toc_cell": false,
   "toc_position": {},
   "toc_section_display": true,
   "toc_window_display": false
  }
 },
 "nbformat": 4,
 "nbformat_minor": 5
}
