{
 "cells": [
  {
   "cell_type": "code",
   "execution_count": 3,
   "id": "dcfd4958",
   "metadata": {},
   "outputs": [],
   "source": [
    "import pandas as pd\n",
    "from rdkit import Chem\n",
    "from rdkit.Chem import Descriptors\n",
    "from rdkit.Chem import rdMolDescriptors\n",
    "\n",
    "def calculate_properties(smiles):\n",
    "    mol = Chem.MolFromSmiles(smiles)\n",
    "    if mol:\n",
    "        alogp = Descriptors.MolLogP(mol)\n",
    "        mw = Descriptors.MolWt(mol)\n",
    "        tpsa = rdMolDescriptors.CalcTPSA(mol)\n",
    "        return alogp, mw, tpsa\n",
    "    return None, None, None\n",
    "\n",
    "# Flooring functions\n",
    "def floor_value(value, base):\n",
    "    return int(value // base) * base\n",
    "\n",
    "# Load the CSV\n",
    "df = pd.read_csv('trainingset.csv')\n",
    "\n",
    "# Calculate the properties for each SMILES\n",
    "df['ALogP'], df['Mw'], df['TPSA'] = zip(*df['SMILES'].apply(calculate_properties))\n",
    "\n",
    "# Apply flooring\n",
    "df['ALogP'] = df['ALogP'].apply(lambda x: floor_value(x, 1))\n",
    "df['Mw'] = df['Mw'].apply(lambda x: floor_value(x, 50))\n",
    "df['TPSA'] = df['TPSA'].apply(lambda x: floor_value(x, 30))\n",
    "\n",
    "# Save the updated dataframe to a new CSV file\n",
    "df.to_csv('updated_file.csv', index=False)\n"
   ]
  },
  {
   "cell_type": "code",
   "execution_count": 4,
   "id": "8ace76b6",
   "metadata": {},
   "outputs": [],
   "source": [
    "import pandas as pd\n",
    "from rdkit import Chem\n",
    "from rdkit.Chem import Descriptors\n",
    "from rdkit.Chem import rdMolDescriptors\n",
    "\n",
    "def calculate_properties(smiles):\n",
    "    mol = Chem.MolFromSmiles(smiles)\n",
    "    if mol:\n",
    "        alogp = Descriptors.MolLogP(mol)\n",
    "        mw = Descriptors.MolWt(mol)\n",
    "        tpsa = rdMolDescriptors.CalcTPSA(mol)\n",
    "        return alogp, mw, tpsa\n",
    "    return None, None, None\n",
    "\n",
    "# Load the CSV\n",
    "df = pd.read_csv('trainingset.csv')\n",
    "\n",
    "# Calculate the properties for each SMILES\n",
    "df['ALogP'], df['Mw'], df['TPSA'] = zip(*df['SMILES'].apply(calculate_properties))\n",
    "\n",
    "# Save the updated dataframe to a new CSV file\n",
    "df.to_csv('updated_file_rawvalue.csv', index=False)\n"
   ]
  },
  {
   "cell_type": "code",
   "execution_count": null,
   "id": "99661ae4",
   "metadata": {},
   "outputs": [],
   "source": []
  }
 ],
 "metadata": {
  "kernelspec": {
   "display_name": "Python [conda env:py37] *",
   "language": "python",
   "name": "conda-env-py37-py"
  },
  "language_info": {
   "codemirror_mode": {
    "name": "ipython",
    "version": 3
   },
   "file_extension": ".py",
   "mimetype": "text/x-python",
   "name": "python",
   "nbconvert_exporter": "python",
   "pygments_lexer": "ipython3",
   "version": "3.7.15"
  },
  "toc": {
   "base_numbering": 1,
   "nav_menu": {},
   "number_sections": true,
   "sideBar": true,
   "skip_h1_title": false,
   "title_cell": "Table of Contents",
   "title_sidebar": "Contents",
   "toc_cell": false,
   "toc_position": {},
   "toc_section_display": true,
   "toc_window_display": false
  }
 },
 "nbformat": 4,
 "nbformat_minor": 5
}
